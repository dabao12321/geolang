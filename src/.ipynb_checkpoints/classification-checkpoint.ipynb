{
 "cells": [
  {
   "cell_type": "markdown",
   "metadata": {},
   "source": [
    "# Correlating Language to Geographic Location\n",
    "\n",
    "After parsing a significant amount of geographically-linked phrases, now we'd like a way to predict the geographic origin of a speaker or writer via their language. Since no dataset can possibly cover the extent of U.S. dialects, we ought to utilize certain machine learning techniques to predict geographic origin even when the raw data is not entirely conclusive.\n",
    "\n",
    "In order to accomplish this, we will first vectorize words and sentences, then utilize a Naive Bayes classifier (scikit-learn's implementation).\n",
    "\n",
    "Please refer to and run `geodare.json`, which converts the raw DARE corpus into a more usable format, prior to using this notebook."
   ]
  },
  {
   "cell_type": "code",
   "execution_count": 34,
   "metadata": {},
   "outputs": [],
   "source": [
    "import sklearn\n",
    "import numpy as np\n",
    "import pandas as pd\n",
    "import nltk"
   ]
  },
  {
   "cell_type": "code",
   "execution_count": 5,
   "metadata": {},
   "outputs": [],
   "source": [
    "geodata = pd.read_csv(\"../data/cleaned_dare_corpus.csv\")"
   ]
  },
  {
   "cell_type": "code",
   "execution_count": 9,
   "metadata": {},
   "outputs": [
    {
     "name": "stdout",
     "output_type": "stream",
     "text": [
      "['alabama', 'alaska', 'algonquian', 'arizona', 'arkansas', 'bahamian', 'california', 'caribbean', 'cherokee', 'choctaw', 'colorado', 'connecticut', 'delaware', 'florida', 'georgia', 'gullah', 'hawaii', 'idaho', 'illinois', 'illinois, chicago', 'indiana', 'iowa', 'kansas', 'kentucky', 'louisiana', 'louisiana, new orleans', 'maine', 'maryland', 'maryland, baltimore', 'massachusetts', 'massachusetts, boston', 'massachusetts, cape cod', 'massachusetts, nantucket', 'michigan', 'minnesota', 'mississippi', 'missouri', 'montana', 'narraganset', 'nebraska', 'nevada', 'new hampshire', 'new jersey', 'new mexico', 'new york', 'new york city', 'new york, hudson valley', 'new york, long island', 'new york, upstate', 'newfoundland', 'north carolina', 'north dakota', 'ohio', 'oklahoma', 'oregon', 'pennsylvania', 'rhode island', 'south carolina', 'south carolina, charleston', 'south dakota', 'tennessee', 'texas', 'utah', 'vermont', 'virginia', 'washington', 'washington, dc', 'west virginia', 'wisconsin', 'wyoming', 'district of columbia']\n"
     ]
    }
   ],
   "source": [
    "catagories = []\n",
    "for x in geodata['dialect']:\n",
    "    if x not in catagories:\n",
    "        catagories.append(x)"
   ]
  },
  {
   "cell_type": "code",
   "execution_count": 46,
   "metadata": {},
   "outputs": [],
   "source": [
    "targets = []\n",
    "\n",
    "for i,x in enumerate(geodata['word']):\n",
    "    dialect = geodata.get_value(i,'dialect')\n",
    "    target = catagories.index(dialect)\n",
    "    targets.append(target)\n",
    "\n"
   ]
  },
  {
   "cell_type": "code",
   "execution_count": null,
   "metadata": {
    "collapsed": true
   },
   "outputs": [],
   "source": []
  }
 ],
 "metadata": {
  "kernelspec": {
   "display_name": "Python 3",
   "language": "python",
   "name": "python3"
  },
  "language_info": {
   "codemirror_mode": {
    "name": "ipython",
    "version": 3
   },
   "file_extension": ".py",
   "mimetype": "text/x-python",
   "name": "python",
   "nbconvert_exporter": "python",
   "pygments_lexer": "ipython3",
   "version": "3.6.1"
  }
 },
 "nbformat": 4,
 "nbformat_minor": 2
}
