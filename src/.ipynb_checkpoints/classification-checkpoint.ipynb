{
 "cells": [
  {
   "cell_type": "markdown",
   "metadata": {},
   "source": [
    "# Correlating Language to Geographic Location\n",
    "\n",
    "After parsing a significant amount of geographically-linked phrases, now we'd like a way to predict the geographic origin of a speaker or writer via their language. Since no dataset can possibly cover the extent of U.S. dialects, we ought to utilize certain machine learning techniques to predict geographic origin even when the raw data is not entirely conclusive.\n",
    "\n",
    "In order to accomplish this, we will first vectorize words and sentences, then utilize a Naive Bayes classifier (scikit-learn's implementation).\n",
    "\n",
    "Please refer to and run `geodare.json`, which converts the raw DARE corpus into a more usable format, prior to using this notebook."
   ]
  },
  {
   "cell_type": "code",
   "execution_count": 20,
   "metadata": {},
   "outputs": [],
   "source": [
    "import sklearn\n",
    "import numpy as np\n",
    "import pandas as pd\n",
    "import nltk"
   ]
  },
  {
   "cell_type": "code",
   "execution_count": 24,
   "metadata": {},
   "outputs": [],
   "source": [
    "geodata = pd.read_csv(\"../data/cleaned_dare_corpus.csv\")"
   ]
  },
  {
   "cell_type": "code",
   "execution_count": 25,
   "metadata": {},
   "outputs": [],
   "source": [
    "catagories = []\n",
    "for x in geodata['dialect']:\n",
    "    if x not in catagories:\n",
    "        catagories.append(x)"
   ]
  },
  {
   "cell_type": "code",
   "execution_count": 30,
   "metadata": {},
   "outputs": [],
   "source": [
    "examples = []\n",
    "targets = []\n",
    "\n",
    "for i,x in enumerate(geodata['word']):\n",
    "    if pd.notnull(x):\n",
    "        examples.append(x)\n",
    "        dialect = geodata.get_value(i,'dialect')\n",
    "        target = catagories.index(dialect)\n",
    "        targets.append(target)        "
   ]
  },
  {
   "cell_type": "code",
   "execution_count": 32,
   "metadata": {},
   "outputs": [
    {
     "name": "stdout",
     "output_type": "stream",
     "text": [
      "data:  36955\n",
      "targets:  36955\n",
      "south carolina\n"
     ]
    }
   ],
   "source": [
    "# Sanity check: the number of data points should match the number of data targets\n",
    "print(\"data: \",len(examples))\n",
    "print(\"targets: \",len(targets))\n",
    "\n",
    "# Bunch the data points to their targets\n",
    "training = sklearn.datasets.base.Bunch(target=targets, data=examples, target_names=catagories)\n",
    "print(training.target_names[training.target[36954]])"
   ]
  },
  {
   "cell_type": "code",
   "execution_count": 36,
   "metadata": {
    "scrolled": true
   },
   "outputs": [
    {
     "data": {
      "text/plain": [
       "(36955, 2951)"
      ]
     },
     "execution_count": 36,
     "metadata": {},
     "output_type": "execute_result"
    }
   ],
   "source": [
    "from sklearn.feature_extraction.text import CountVectorizer\n",
    "count_vect = CountVectorizer()\n",
    "X_train_counts = count_vect.fit_transform(training.data)\n",
    "X_train_counts.shape\n"
   ]
  },
  {
   "cell_type": "code",
   "execution_count": null,
   "metadata": {
    "collapsed": true
   },
   "outputs": [],
   "source": []
  }
 ],
 "metadata": {
  "kernelspec": {
   "display_name": "Python 3",
   "language": "python",
   "name": "python3"
  },
  "language_info": {
   "codemirror_mode": {
    "name": "ipython",
    "version": 3
   },
   "file_extension": ".py",
   "mimetype": "text/x-python",
   "name": "python",
   "nbconvert_exporter": "python",
   "pygments_lexer": "ipython3",
   "version": "3.6.1"
  }
 },
 "nbformat": 4,
 "nbformat_minor": 2
}
