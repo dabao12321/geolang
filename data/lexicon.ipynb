{
 "cells": [
  {
   "cell_type": "markdown",
   "metadata": {},
   "source": [
    "# Gathering Lexical Data\n",
    "\n",
    "This notebook will serve to gather vocabulary unique to a certain region of the U.S. Data will be drawn primarily from the Dictionary of American Regional English (DARE) and the Harvard Dialect Survey. \n",
    "\n",
    "Currently, I'm looking to automate the data-collection process, but I'm not sure how to proceed considering neither of the above have raw data sources. \n",
    "\n",
    "recommended to do:\n",
    "- plug data into SVM model (sklearn Pipeline, put data into pipeline, pipeline converts to number vectors, to SVM classifier)\n",
    "- use Grid Search for tuning hyperparameters"
   ]
  },
  {
   "cell_type": "code",
   "execution_count": null,
   "metadata": {
    "collapsed": true
   },
   "outputs": [],
   "source": [
    "# text_catagorizer = Pipeline(...)"
   ]
  }
 ],
 "metadata": {
  "kernelspec": {
   "display_name": "Python 3",
   "language": "python",
   "name": "python3"
  },
  "language_info": {
   "codemirror_mode": {
    "name": "ipython",
    "version": 3
   },
   "file_extension": ".py",
   "mimetype": "text/x-python",
   "name": "python",
   "nbconvert_exporter": "python",
   "pygments_lexer": "ipython3",
   "version": "3.6.1"
  }
 },
 "nbformat": 4,
 "nbformat_minor": 2
}
